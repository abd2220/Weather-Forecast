{
 "cells": [
  {
   "cell_type": "markdown",
   "metadata": {},
   "source": [
    "#### Make sure to install the following packages"
   ]
  },
  {
   "cell_type": "code",
   "execution_count": null,
   "metadata": {},
   "outputs": [],
   "source": [
    "!pip install urllib3"
   ]
  },
  {
   "cell_type": "code",
   "execution_count": null,
   "metadata": {},
   "outputs": [],
   "source": [
    "!pip install chardet"
   ]
  },
  {
   "cell_type": "code",
   "execution_count": null,
   "metadata": {},
   "outputs": [],
   "source": [
    "!pip install kafka-python"
   ]
  },
  {
   "cell_type": "markdown",
   "metadata": {},
   "source": [
    "#### Code implementing stream: Source -> Kafka"
   ]
  },
  {
   "cell_type": "code",
   "execution_count": null,
   "metadata": {},
   "outputs": [
    {
     "name": "stderr",
     "output_type": "stream",
     "text": [
      "/home/bigdata/anaconda3/lib/python3.7/site-packages/requests/__init__.py:91: RequestsDependencyWarning: urllib3 (2.0.7) or chardet (5.2.0) doesn't match a supported version!\n",
      "  RequestsDependencyWarning)\n"
     ]
    },
    {
     "name": "stdout",
     "output_type": "stream",
     "text": [
      "Data streamed to Kafka: {'location': 'Washington, D.C.', 'short_forecast': 'Mostly Clear', 'temperature': 47, 'temperature_unit': 'F', 'wind_speed': '8 mph', 'start_time': '2024-11-02T00:00:00-04:00'}\n",
      "Data streamed to Kafka: {'location': 'Washington, D.C.', 'short_forecast': 'Mostly Sunny', 'temperature': 64, 'temperature_unit': 'F', 'wind_speed': '6 to 10 mph', 'start_time': '2024-11-02T06:00:00-04:00'}\n",
      "Data streamed to Kafka: {'location': 'Washington, D.C.', 'short_forecast': 'Mostly Clear', 'temperature': 42, 'temperature_unit': 'F', 'wind_speed': '2 to 7 mph', 'start_time': '2024-11-02T18:00:00-04:00'}\n",
      "Data streamed to Kafka: {'location': 'Washington, D.C.', 'short_forecast': 'Sunny', 'temperature': 62, 'temperature_unit': 'F', 'wind_speed': '5 mph', 'start_time': '2024-11-03T06:00:00-05:00'}\n",
      "Data streamed to Kafka: {'location': 'Washington, D.C.', 'short_forecast': 'Partly Cloudy', 'temperature': 44, 'temperature_unit': 'F', 'wind_speed': '3 mph', 'start_time': '2024-11-03T18:00:00-05:00'}\n",
      "Data streamed to Kafka: {'location': 'Washington, D.C.', 'short_forecast': 'Partly Sunny', 'temperature': 68, 'temperature_unit': 'F', 'wind_speed': '2 to 7 mph', 'start_time': '2024-11-04T06:00:00-05:00'}\n",
      "Data streamed to Kafka: {'location': 'Washington, D.C.', 'short_forecast': 'Mostly Cloudy', 'temperature': 55, 'temperature_unit': 'F', 'wind_speed': '6 mph', 'start_time': '2024-11-04T18:00:00-05:00'}\n",
      "Data streamed to Kafka: {'location': 'Washington, D.C.', 'short_forecast': 'Partly Sunny', 'temperature': 77, 'temperature_unit': 'F', 'wind_speed': '6 to 12 mph', 'start_time': '2024-11-05T06:00:00-05:00'}\n",
      "Data streamed to Kafka: {'location': 'Washington, D.C.', 'short_forecast': 'Partly Cloudy then Slight Chance Rain Showers', 'temperature': 62, 'temperature_unit': 'F', 'wind_speed': '10 mph', 'start_time': '2024-11-05T18:00:00-05:00'}\n",
      "Data streamed to Kafka: {'location': 'Washington, D.C.', 'short_forecast': 'Slight Chance Rain Showers', 'temperature': 79, 'temperature_unit': 'F', 'wind_speed': '9 mph', 'start_time': '2024-11-06T06:00:00-05:00'}\n",
      "Data streamed to Kafka: {'location': 'Washington, D.C.', 'short_forecast': 'Chance Rain Showers', 'temperature': 61, 'temperature_unit': 'F', 'wind_speed': '6 mph', 'start_time': '2024-11-06T18:00:00-05:00'}\n",
      "Data streamed to Kafka: {'location': 'Washington, D.C.', 'short_forecast': 'Chance Rain Showers', 'temperature': 75, 'temperature_unit': 'F', 'wind_speed': '3 to 8 mph', 'start_time': '2024-11-07T06:00:00-05:00'}\n",
      "Data streamed to Kafka: {'location': 'Washington, D.C.', 'short_forecast': 'Chance Rain Showers', 'temperature': 54, 'temperature_unit': 'F', 'wind_speed': '7 mph', 'start_time': '2024-11-07T18:00:00-05:00'}\n",
      "Data streamed to Kafka: {'location': 'Washington, D.C.', 'short_forecast': 'Slight Chance Rain Showers', 'temperature': 68, 'temperature_unit': 'F', 'wind_speed': '6 to 9 mph', 'start_time': '2024-11-08T06:00:00-05:00'}\n"
     ]
    }
   ],
   "source": [
    "import requests\n",
    "import json\n",
    "from kafka import KafkaProducer\n",
    "import time\n",
    "\n",
    "# Kafka configuration\n",
    "KAFKA_BROKER = 'localhost:9092'\n",
    "TOPIC = 'weatherlogs'\n",
    "\n",
    "# Create Kafka Producer\n",
    "producer = KafkaProducer(\n",
    "    bootstrap_servers=[KAFKA_BROKER],\n",
    "    value_serializer=lambda v: json.dumps(v).encode('utf-8')\n",
    ")\n",
    "\n",
    "# Define latitude and longitude for the desired location\n",
    "latitude = 38.8977  # Example: Washington, D.C.\n",
    "longitude = -77.0365\n",
    "\n",
    "def stream_forecast():\n",
    "    while True:\n",
    "        # Fetch forecast data\n",
    "        api_url = f\"https://api.weather.gov/points/{latitude},{longitude}\"\n",
    "        response = requests.get(api_url)\n",
    "        \n",
    "        if response.status_code == 200:\n",
    "            data = response.json()\n",
    "            forecast_url = data['properties']['forecast']\n",
    "\n",
    "            forecast_response = requests.get(forecast_url)\n",
    "            if forecast_response.status_code == 200:\n",
    "                forecast_data = forecast_response.json()\n",
    "                for period in forecast_data['properties']['periods']:\n",
    "                    # Create a data dictionary for Kafka\n",
    "                    forecast_info = {\n",
    "                        \"location\": \"Washington, D.C.\",\n",
    "                        \"short_forecast\": period['shortForecast'],\n",
    "                        \"temperature\": period['temperature'],\n",
    "                        \"temperature_unit\": period['temperatureUnit'],\n",
    "                        \"wind_speed\": period['windSpeed'],\n",
    "                        \"start_time\": period['startTime']\n",
    "                    }\n",
    "\n",
    "                    # Send data to Kafka\n",
    "                    producer.send(TOPIC, value=forecast_info)\n",
    "                    print(f\"Data streamed to Kafka: {forecast_info}\")\n",
    "                \n",
    "                # Wait before fetching again\n",
    "                time.sleep(604800)  # Stream every 7 days\n",
    "            else:\n",
    "                print(\"Failed to fetch forecast data.\")\n",
    "        else:\n",
    "            print(\"Failed to fetch location data.\")\n",
    "\n",
    "try:\n",
    "    stream_forecast()\n",
    "except KeyboardInterrupt:\n",
    "    print(\"Streaming stopped.\")\n",
    "finally:\n",
    "    producer.close()\n"
   ]
  },
  {
   "cell_type": "code",
   "execution_count": null,
   "metadata": {},
   "outputs": [],
   "source": []
  },
  {
   "cell_type": "code",
   "execution_count": null,
   "metadata": {},
   "outputs": [],
   "source": []
  }
 ],
 "metadata": {
  "kernelspec": {
   "display_name": "Python 3 (ipykernel)",
   "language": "python",
   "name": "python3"
  },
  "language_info": {
   "codemirror_mode": {
    "name": "ipython",
    "version": 3
   },
   "file_extension": ".py",
   "mimetype": "text/x-python",
   "name": "python",
   "nbconvert_exporter": "python",
   "pygments_lexer": "ipython3",
   "version": "3.12.4"
  }
 },
 "nbformat": 4,
 "nbformat_minor": 4
}
